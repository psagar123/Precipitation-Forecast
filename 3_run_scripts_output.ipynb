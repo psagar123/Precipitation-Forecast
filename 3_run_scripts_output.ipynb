{
 "cells": [
  {
   "cell_type": "code",
   "execution_count": 40,
   "id": "91665be5-dacb-406a-9b0a-13edf473e452",
   "metadata": {},
   "outputs": [
    {
     "name": "stdout",
     "output_type": "stream",
     "text": [
      "Weater in San Diego, US:\n",
      "Condition: broken clouds\n",
      "Temperature: 21.27000000000004C\n",
      "Humidity: 82%\n",
      "Wind Speed: 5.14 m/s\n",
      "Pressure: 1017 hPa\n"
     ]
    }
   ],
   "source": [
    "%run ./read_weather_data_from_api.ipynb\n"
   ]
  },
  {
   "cell_type": "code",
   "execution_count": 41,
   "id": "0c5d8e6e-3fcc-4c76-8e6f-98b2280f7807",
   "metadata": {
    "tags": []
   },
   "outputs": [
    {
     "data": {
      "text/html": [
       "<div>\n",
       "<style scoped>\n",
       "    .dataframe tbody tr th:only-of-type {\n",
       "        vertical-align: middle;\n",
       "    }\n",
       "\n",
       "    .dataframe tbody tr th {\n",
       "        vertical-align: top;\n",
       "    }\n",
       "\n",
       "    .dataframe thead th {\n",
       "        text-align: right;\n",
       "    }\n",
       "</style>\n",
       "<table border=\"1\" class=\"dataframe\">\n",
       "  <thead>\n",
       "    <tr style=\"text-align: right;\">\n",
       "      <th></th>\n",
       "      <th>t2m</th>\n",
       "      <th>msl</th>\n",
       "      <th>r</th>\n",
       "    </tr>\n",
       "  </thead>\n",
       "  <tbody>\n",
       "    <tr>\n",
       "      <th>0</th>\n",
       "      <td>294.42</td>\n",
       "      <td>1017</td>\n",
       "      <td>82</td>\n",
       "    </tr>\n",
       "  </tbody>\n",
       "</table>\n",
       "</div>"
      ],
      "text/plain": [
       "      t2m   msl   r\n",
       "0  294.42  1017  82"
      ]
     },
     "execution_count": 41,
     "metadata": {},
     "output_type": "execute_result"
    }
   ],
   "source": [
    "\n",
    "data_all = [{'t2m':temperature, 'msl':pres, 'r':humidity}]; \n",
    "data_all\n",
    "\n",
    "df_input_all = pd.DataFrame(data_all)\n",
    "\n",
    "df_input_all"
   ]
  },
  {
   "cell_type": "code",
   "execution_count": 42,
   "id": "84e83342-1466-4ca7-894f-b84edd8723df",
   "metadata": {
    "tags": []
   },
   "outputs": [],
   "source": [
    "# call the appropriate script \n",
    "\n",
    "# Check the value of Temperature\n",
    "\n",
    "if temperature-273.15 < 0:\n",
    "    %run ./2a_model_development_airtemp_lt_0_cold.ipynb\n",
    "elif temperature-273.15 > 23:\n",
    "    %run ./2b_model_development_airtemp_gt_23_warm.ipynb\n",
    "else:\n",
    "    precip_predict_model = -1"
   ]
  },
  {
   "cell_type": "code",
   "execution_count": 46,
   "id": "87ac4625-6f49-4ef1-bfbf-33fd592bbff9",
   "metadata": {
    "tags": []
   },
   "outputs": [
    {
     "data": {
      "image/png": "[encoded data removed]",
      "text/plain": [
       "<Figure size 640x480 with 1 Axes>"
      ]
     },
     "metadata": {},
     "output_type": "display_data"
    }
   ],
   "source": [
    "# now do the prediction\n",
    "\n",
    "if precip_predict_model != -1:\n",
    "    precip_predict_model = lr.predict(df_input_all)\n",
    "\n",
    "\n",
    "\n",
    "import matplotlib.pyplot as plt\n",
    "\n",
    "# Set the font size (you can adjust this value)\n",
    "font_size = 24\n",
    "\n",
    "if 0 < precip_predict_model < 3:\n",
    "    text = \"There is no chance of rainfall today! You may want to plan some outdoor activities.\"\n",
    "    color = 'grey'\n",
    "elif 3 < precip_predict_model < 6:\n",
    "    text = \"There is a moderate chance of rainfall today.\"\n",
    "    color = 'orange'\n",
    "elif precip_predict_model >= 6:\n",
    "    text = \"There is a high chance of rainfall today.\"\n",
    "    color = 'red'\n",
    "else:\n",
    "    text = \"Sorry! I am unable to forecast rainfall in these conditions.\"\n",
    "    color = 'black'\n",
    "\n",
    "# Create a figure and axis\n",
    "fig, ax = plt.subplots()\n",
    "\n",
    "# Set the text properties, including font size and color\n",
    "ax.text(0.5, 0.5, text, fontsize=font_size, color=color, ha='center', va='center')\n",
    "\n",
    "# Remove axis labels and ticks\n",
    "ax.axis('off')\n",
    "\n",
    "# Display the text\n",
    "plt.show()\n",
    "\n"
   ]
  }
 ],
 "metadata": {
  "kernelspec": {
   "display_name": "Python 3 (ipykernel)",
   "language": "python",
   "name": "python3"
  },
  "language_info": {
   "codemirror_mode": {
    "name": "ipython",
    "version": 3
   },
   "file_extension": ".py",
   "mimetype": "text/x-python",
   "name": "python",
   "nbconvert_exporter": "python",
   "pygments_lexer": "ipython3",
   "version": "3.11.3"
  }
 },
 "nbformat": 4,
 "nbformat_minor": 5
}
